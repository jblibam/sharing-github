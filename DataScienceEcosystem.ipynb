{
 "cells": [
  {
   "cell_type": "markdown",
   "id": "6a6b6448-c297-437a-9a7d-1fdd603e8801",
   "metadata": {},
   "source": [
    "# Data Science Tools and Ecosystem"
   ]
  },
  {
   "cell_type": "markdown",
   "id": "7217de60-989c-4e2f-96e8-2832d98da77f",
   "metadata": {},
   "source": [
    "# In this notebook, Data Science Tools and Ecosystem are summarized."
   ]
  },
  {
   "cell_type": "markdown",
   "id": "0b4c01fa-5735-426e-8107-93093ad88f0a",
   "metadata": {},
   "source": [
    "# **Objectives:**\n",
    "*  Programming Practice\n",
    "*  Collaborating Across Projects and Tools\n",
    "*  Data Organization and Cleaning\n",
    "*  Data Visualization and Sharing\n",
    "*  Teaching Data Science Skills"
   ]
  },
  {
   "cell_type": "markdown",
   "id": "486e3c38-f7d3-4c3f-8df9-b7b20a657a1c",
   "metadata": {},
   "source": [
    "# Some of the popular languages that Data Scientists use are:\n",
    "1. Python\n",
    "2. R\n",
    "3. Java\n",
    "4. SQL"
   ]
  },
  {
   "cell_type": "markdown",
   "id": "69320a92-d68c-4e46-8556-ba8a789e8ddd",
   "metadata": {},
   "source": [
    "Some of the commonly used libraries used by Data Scientists include:\n",
    "1. TensorFlow.\n",
    "2. NumPy.\n",
    "3. SciPy.\n",
    "    "
   ]
  },
  {
   "cell_type": "markdown",
   "id": "995e048c-320b-445e-9c19-9ea7b12ba164",
   "metadata": {},
   "source": [
    "| Data Science Tools|\n",
    "|------------|\n",
    "|Tableau|\n",
    "|RapidMiner|\n",
    "|Matplotlib|"
   ]
  },
  {
   "cell_type": "markdown",
   "id": "4ef9fcfc-c4f2-49fa-9db1-4e8a72468191",
   "metadata": {
    "tags": []
   },
   "source": [
    "# Below are a few examples of evaluating \n",
    "## arithmetic expressions \n",
    "### in Python"
   ]
  },
  {
   "cell_type": "code",
   "execution_count": 2,
   "id": "a4441f63-a49f-4cb1-a9a2-c5406d444649",
   "metadata": {},
   "outputs": [
    {
     "data": {
      "text/plain": [
       "17"
      ]
     },
     "execution_count": 2,
     "metadata": {},
     "output_type": "execute_result"
    }
   ],
   "source": [
    "\"This a simple arithmetic expression to mutiply then add integers\"\n",
    "(3*4)+5"
   ]
  },
  {
   "cell_type": "code",
   "execution_count": 5,
   "id": "e1d57cd8-b09d-466a-82a8-4fcf5a09c1da",
   "metadata": {},
   "outputs": [
    {
     "data": {
      "text/plain": [
       "3.3333333333333335"
      ]
     },
     "execution_count": 5,
     "metadata": {},
     "output_type": "execute_result"
    }
   ],
   "source": [
    "\"This will convert 200 minutes to hours by diving by 60\"\n",
    "200/60"
   ]
  },
  {
   "cell_type": "markdown",
   "id": "d53e88ad-7a7c-4aa6-8d7d-c03d959e406a",
   "metadata": {
    "tags": []
   },
   "source": [
    "## Author\n",
    "Lakshmi Holla\n",
    "\n",
    "Niveditha Pandith"
   ]
  }
 ],
 "metadata": {
  "kernelspec": {
   "display_name": "anaconda-panel-2023.05-py310",
   "language": "python",
   "name": "conda-env-anaconda-panel-2023.05-py310-py"
  },
  "language_info": {
   "codemirror_mode": {
    "name": "ipython",
    "version": 3
   },
   "file_extension": ".py",
   "mimetype": "text/x-python",
   "name": "python",
   "nbconvert_exporter": "python",
   "pygments_lexer": "ipython3",
   "version": "3.11.4"
  }
 },
 "nbformat": 4,
 "nbformat_minor": 5
}
